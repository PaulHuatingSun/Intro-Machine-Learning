{
 "cells": [
  {
   "cell_type": "markdown",
   "metadata": {
    "id": "iAq0_crOQNcc"
   },
   "source": [
    "# Homework 1 - House Prices\n",
    "\n",
    "### The Coding portion is submitted on EdStem and the Concept portion is submitted on Gradescope.\n",
    "\n",
    "In this assignment we'll practice working with `pandas` `DataFrames` and train a linear regression model to predict house prices.\n",
    "\n",
    "Fill in the cells provided marked `TODO` with code to answer the questions. Answers should do the computation stated rather than writing in hard-coded values. So for example, if a problem asks you to compute the average age of people in a dataset, you should be writing Python code in this notebook to do the computation instead of plugging it into some calculator and saving the hard-coded answer in the variable. In other words, we should be able to run your code on a smaller/larger dataset and get correct answers for those datasets with your code.\n",
    "\n",
    "It is generally a good idea to restart the kernel and run all cells (especially before turning it in) to make sure your code runs correctly from start to finish.\n",
    "\n",
    "## Submitting\n",
    "\n",
    "To submit this coding portion on EdStem, press the \"Mark\" button on the bottom right of the screen. You can submit as many times as you want, and we will take your last one submitted when grading.\n",
    "\n",
    "Unlike HW0, we do not show you all the test cases we run on your code. The tests that you see each time you submit indicate whether or not the types of the values you computed match our expected types. We do not share whether or not your answer is correct before you submit."
   ]
  },
  {
   "cell_type": "code",
   "execution_count": 2,
   "metadata": {
    "id": "QKwr7dcJQNch"
   },
   "outputs": [],
   "source": [
    "# Conventionally people rename the pandas import to pd for brevity\n",
    "import pandas as pd"
   ]
  },
  {
   "cell_type": "code",
   "execution_count": 3,
   "metadata": {
    "id": "ca1_IOsVQNcq"
   },
   "outputs": [
    {
     "data": {
      "text/html": [
       "<div>\n",
       "<style scoped>\n",
       "    .dataframe tbody tr th:only-of-type {\n",
       "        vertical-align: middle;\n",
       "    }\n",
       "\n",
       "    .dataframe tbody tr th {\n",
       "        vertical-align: top;\n",
       "    }\n",
       "\n",
       "    .dataframe thead th {\n",
       "        text-align: right;\n",
       "    }\n",
       "</style>\n",
       "<table border=\"1\" class=\"dataframe\">\n",
       "  <thead>\n",
       "    <tr style=\"text-align: right;\">\n",
       "      <th></th>\n",
       "      <th>id</th>\n",
       "      <th>date</th>\n",
       "      <th>price</th>\n",
       "      <th>bedrooms</th>\n",
       "      <th>bathrooms</th>\n",
       "      <th>sqft_living</th>\n",
       "      <th>sqft_lot</th>\n",
       "      <th>floors</th>\n",
       "      <th>waterfront</th>\n",
       "      <th>view</th>\n",
       "      <th>...</th>\n",
       "      <th>grade</th>\n",
       "      <th>sqft_above</th>\n",
       "      <th>sqft_basement</th>\n",
       "      <th>yr_built</th>\n",
       "      <th>yr_renovated</th>\n",
       "      <th>zipcode</th>\n",
       "      <th>lat</th>\n",
       "      <th>long</th>\n",
       "      <th>sqft_living15</th>\n",
       "      <th>sqft_lot15</th>\n",
       "    </tr>\n",
       "  </thead>\n",
       "  <tbody>\n",
       "    <tr>\n",
       "      <th>0</th>\n",
       "      <td>7129300520</td>\n",
       "      <td>20141013T000000</td>\n",
       "      <td>221900</td>\n",
       "      <td>3</td>\n",
       "      <td>1.00</td>\n",
       "      <td>1180</td>\n",
       "      <td>5650</td>\n",
       "      <td>1.0</td>\n",
       "      <td>0</td>\n",
       "      <td>0</td>\n",
       "      <td>...</td>\n",
       "      <td>7</td>\n",
       "      <td>1180</td>\n",
       "      <td>0</td>\n",
       "      <td>1955</td>\n",
       "      <td>0</td>\n",
       "      <td>98178</td>\n",
       "      <td>47.5112</td>\n",
       "      <td>-122.257</td>\n",
       "      <td>1340</td>\n",
       "      <td>5650</td>\n",
       "    </tr>\n",
       "    <tr>\n",
       "      <th>1</th>\n",
       "      <td>6414100192</td>\n",
       "      <td>20141209T000000</td>\n",
       "      <td>538000</td>\n",
       "      <td>3</td>\n",
       "      <td>2.25</td>\n",
       "      <td>2570</td>\n",
       "      <td>7242</td>\n",
       "      <td>2.0</td>\n",
       "      <td>0</td>\n",
       "      <td>0</td>\n",
       "      <td>...</td>\n",
       "      <td>7</td>\n",
       "      <td>2170</td>\n",
       "      <td>400</td>\n",
       "      <td>1951</td>\n",
       "      <td>1991</td>\n",
       "      <td>98125</td>\n",
       "      <td>47.7210</td>\n",
       "      <td>-122.319</td>\n",
       "      <td>1690</td>\n",
       "      <td>7639</td>\n",
       "    </tr>\n",
       "    <tr>\n",
       "      <th>2</th>\n",
       "      <td>5631500400</td>\n",
       "      <td>20150225T000000</td>\n",
       "      <td>180000</td>\n",
       "      <td>2</td>\n",
       "      <td>1.00</td>\n",
       "      <td>770</td>\n",
       "      <td>10000</td>\n",
       "      <td>1.0</td>\n",
       "      <td>0</td>\n",
       "      <td>0</td>\n",
       "      <td>...</td>\n",
       "      <td>6</td>\n",
       "      <td>770</td>\n",
       "      <td>0</td>\n",
       "      <td>1933</td>\n",
       "      <td>0</td>\n",
       "      <td>98028</td>\n",
       "      <td>47.7379</td>\n",
       "      <td>-122.233</td>\n",
       "      <td>2720</td>\n",
       "      <td>8062</td>\n",
       "    </tr>\n",
       "    <tr>\n",
       "      <th>3</th>\n",
       "      <td>2487200875</td>\n",
       "      <td>20141209T000000</td>\n",
       "      <td>604000</td>\n",
       "      <td>4</td>\n",
       "      <td>3.00</td>\n",
       "      <td>1960</td>\n",
       "      <td>5000</td>\n",
       "      <td>1.0</td>\n",
       "      <td>0</td>\n",
       "      <td>0</td>\n",
       "      <td>...</td>\n",
       "      <td>7</td>\n",
       "      <td>1050</td>\n",
       "      <td>910</td>\n",
       "      <td>1965</td>\n",
       "      <td>0</td>\n",
       "      <td>98136</td>\n",
       "      <td>47.5208</td>\n",
       "      <td>-122.393</td>\n",
       "      <td>1360</td>\n",
       "      <td>5000</td>\n",
       "    </tr>\n",
       "    <tr>\n",
       "      <th>4</th>\n",
       "      <td>1954400510</td>\n",
       "      <td>20150218T000000</td>\n",
       "      <td>510000</td>\n",
       "      <td>3</td>\n",
       "      <td>2.00</td>\n",
       "      <td>1680</td>\n",
       "      <td>8080</td>\n",
       "      <td>1.0</td>\n",
       "      <td>0</td>\n",
       "      <td>0</td>\n",
       "      <td>...</td>\n",
       "      <td>8</td>\n",
       "      <td>1680</td>\n",
       "      <td>0</td>\n",
       "      <td>1987</td>\n",
       "      <td>0</td>\n",
       "      <td>98074</td>\n",
       "      <td>47.6168</td>\n",
       "      <td>-122.045</td>\n",
       "      <td>1800</td>\n",
       "      <td>7503</td>\n",
       "    </tr>\n",
       "  </tbody>\n",
       "</table>\n",
       "<p>5 rows × 21 columns</p>\n",
       "</div>"
      ],
      "text/plain": [
       "           id             date   price  bedrooms  bathrooms  sqft_living  \\\n",
       "0  7129300520  20141013T000000  221900         3       1.00         1180   \n",
       "1  6414100192  20141209T000000  538000         3       2.25         2570   \n",
       "2  5631500400  20150225T000000  180000         2       1.00          770   \n",
       "3  2487200875  20141209T000000  604000         4       3.00         1960   \n",
       "4  1954400510  20150218T000000  510000         3       2.00         1680   \n",
       "\n",
       "   sqft_lot  floors  waterfront  view  ...  grade  sqft_above  sqft_basement  \\\n",
       "0      5650     1.0           0     0  ...      7        1180              0   \n",
       "1      7242     2.0           0     0  ...      7        2170            400   \n",
       "2     10000     1.0           0     0  ...      6         770              0   \n",
       "3      5000     1.0           0     0  ...      7        1050            910   \n",
       "4      8080     1.0           0     0  ...      8        1680              0   \n",
       "\n",
       "   yr_built  yr_renovated  zipcode      lat     long  sqft_living15  \\\n",
       "0      1955             0    98178  47.5112 -122.257           1340   \n",
       "1      1951          1991    98125  47.7210 -122.319           1690   \n",
       "2      1933             0    98028  47.7379 -122.233           2720   \n",
       "3      1965             0    98136  47.5208 -122.393           1360   \n",
       "4      1987             0    98074  47.6168 -122.045           1800   \n",
       "\n",
       "   sqft_lot15  \n",
       "0        5650  \n",
       "1        7639  \n",
       "2        8062  \n",
       "3        5000  \n",
       "4        7503  \n",
       "\n",
       "[5 rows x 21 columns]"
      ]
     },
     "execution_count": 3,
     "metadata": {},
     "output_type": "execute_result"
    }
   ],
   "source": [
    "# Load in the data and preview it\n",
    "sales = pd.read_csv('home_data.csv') \n",
    "sales.head()"
   ]
  },
  {
   "cell_type": "markdown",
   "metadata": {
    "id": "ly8hIsWdQNcq"
   },
   "source": [
    "---\n",
    "# Exploring the data.\n",
    "This question asks you to explore the dataset we will be using. Answer the following three sentences by writing code to compute the dsecribed values in the given variables names. Note that Q1 has 3 sub-questions.\n",
    "\n",
    "## Q1) Exploring the data\n",
    "\n",
    "1. How many houses do we have in our data set? This should correspond to the number of rows in the dataset. Save the number of rows in a variable called `num_rows`.\n",
    "2. Which column are we trying to predict given the other features (i.e. what's our output `y`)? Save the column values in a variable called `y`.\n",
    "3. How many inputs do we have in total in the data set (i.e. what is the size of our input `x`)? Save the number of inputs in a variable called `num_inputs`.\n",
    "\n",
    "Each one of these questions should be answered in the next cells respectively.\n",
    "\n",
    "*Hint:* You can use `len()` to get the length of anything in Python. Note that when you use it on a DataFrame, it will give you the number of rows, not columns.\n"
   ]
  },
  {
   "cell_type": "code",
   "execution_count": 27,
   "metadata": {
    "id": "5bDfbILfQNcr"
   },
   "outputs": [],
   "source": [
    "### edTest(test_num_rows) ###\n",
    "# Compute the number of rows of the dataframe\n",
    "\n",
    "num_rows = sales.shape[0]"
   ]
  },
  {
   "cell_type": "code",
   "execution_count": 26,
   "metadata": {
    "id": "0djI_eeFQNcs"
   },
   "outputs": [],
   "source": [
    "### edTest(test_get_labels) ###\n",
    "# Extract the 'price' column values out\n",
    "\n",
    "y = sales['price']"
   ]
  },
  {
   "cell_type": "code",
   "execution_count": 28,
   "metadata": {
    "id": "knqdHVEFQNcs"
   },
   "outputs": [],
   "source": [
    "### edTest(test_num_inputs) ###\n",
    "# Compute the number of inputs, minus the price column\n",
    "\n",
    "num_inputs = sales.shape[1]-1"
   ]
  },
  {
   "cell_type": "markdown",
   "metadata": {
    "id": "LWNCt7Q9QNct"
   },
   "source": [
    "---\n",
    "## Q2) What is the average price of houses with 3 bedrooms?\n",
    "\n",
    "Compute the average price of houses in the dataset with 3 bedrooms. Save the result in `avg_price_3_bed`."
   ]
  },
  {
   "cell_type": "code",
   "execution_count": 29,
   "metadata": {
    "id": "ybH34jaVQNct"
   },
   "outputs": [],
   "source": [
    "### edTest(test_avg_price_3_bed) ###\n",
    "# Calculate the avergae price of houses with 3 bedrooms\n",
    "num_3_beds = sales['bedrooms'] == 3\n",
    "price_3_beds = sales[num_3_beds]['price']\n",
    "avg_price_3_bed = price_3_beds.mean()"
   ]
  },
  {
   "cell_type": "markdown",
   "metadata": {
    "id": "Ny465pKAQNcu"
   },
   "source": [
    "---\n",
    "## Q3) What fraction of the properties are have `sqft_living` between 2000-4000?\n",
    "\n",
    "Compute the fraction of properties with `sqft_living` between 2000 (inclusive) and 4000 (exclusive). Your answer should be stored in `percent_q3` and it should be a number between 0 and 1.\n",
    " "
   ]
  },
  {
   "cell_type": "code",
   "execution_count": 34,
   "metadata": {
    "id": "traXJ23PQNcu"
   },
   "outputs": [
    {
     "data": {
      "text/plain": [
       "0.4263174941007727"
      ]
     },
     "execution_count": 34,
     "metadata": {},
     "output_type": "execute_result"
    }
   ],
   "source": [
    "### edTest(test_percent_q3) ###\n",
    "# Compute the fraction of properties with houses that have more or equal to 2000 and less than 4000 sqft\n",
    "\n",
    "sqft_2000_4000 = len(sales[(sales.sqft_living >= 2000) & (sales.sqft_living < 4000)])\n",
    "sqft_2000_4000\n",
    "percent_q3 = sqft_2000_4000/num_rows"
   ]
  },
  {
   "cell_type": "markdown",
   "metadata": {
    "id": "pH7yjdfyQNcv"
   },
   "source": [
    "---\n",
    "# Training Linear Regression Models\n",
    "\n",
    "## Q4) Training a Linear Regression Model.\n",
    "\n",
    "We will now train a linear regression model to make useful predictions. Work through the steps below and then answer the following questions. Even though a lot of the code is pre-written, you should understand what it is doing! You may be asked to write some of this code on future assignments.\n",
    "\n",
    "First we split the data into a training set and a test set.\n",
    "\n",
    "**You should not modify the next two cells. Even though there is an `edTest` comment. The `edTest` comment is there to let us set up some state, and does no test any functionality. These cells need to be left as-is, otherwise it will potentially mess up future tests.**"
   ]
  },
  {
   "cell_type": "code",
   "execution_count": 9,
   "metadata": {
    "id": "teQRbNHvQNcv"
   },
   "outputs": [],
   "source": [
    "### edTest(test_setup_train_test_split) ###"
   ]
  },
  {
   "cell_type": "code",
   "execution_count": 10,
   "metadata": {
    "id": "Kzh667KAQNcv"
   },
   "outputs": [],
   "source": [
    "from sklearn.model_selection import train_test_split\n",
    "\n",
    "# Split data into 80% train and 20% test\n",
    "train_data, test_data = train_test_split(sales, test_size=0.2)"
   ]
  },
  {
   "cell_type": "markdown",
   "metadata": {
    "id": "RukAJ1tCQNcw"
   },
   "source": [
    "Lets plot some of the data to get a sense of what we are dealing with. You do not need to understand every part of the plotting code here, but plotting is a good skill in Python so it will help to read over this."
   ]
  },
  {
   "cell_type": "code",
   "execution_count": 11,
   "metadata": {
    "id": "fx5pyKpaQNcw"
   },
   "outputs": [
    {
     "data": {
      "text/plain": [
       "Text(0, 0.5, 'Price')"
      ]
     },
     "execution_count": 11,
     "metadata": {},
     "output_type": "execute_result"
    },
    {
     "data": {
      "image/png": "[encoded data removed]",
      "text/plain": [
       "<Figure size 432x288 with 1 Axes>"
      ]
     },
     "metadata": {
      "needs_background": "light"
     },
     "output_type": "display_data"
    }
   ],
   "source": [
    "import matplotlib.pyplot as plt\n",
    "%matplotlib inline\n",
    "\n",
    "# Plot sqft_living vs housing price for the train and test da\n",
    "plt.scatter(train_data['sqft_living'], train_data['price'], marker='+', label='Train')\n",
    "plt.scatter(test_data['sqft_living'], test_data['price'], marker='.', label='Test')\n",
    "\n",
    "# Code to customize the axis labels\n",
    "plt.legend()\n",
    "plt.xlabel('Sqft Living')\n",
    "plt.ylabel('Price')"
   ]
  },
  {
   "cell_type": "markdown",
   "metadata": {
    "id": "D-KdzWk8QNcw"
   },
   "source": [
    "For this problem, we will look at using two sets of features derived from the data inputs. The basic set of features only contains a few data inputs while the advanced features contain them and more."
   ]
  },
  {
   "cell_type": "code",
   "execution_count": 12,
   "metadata": {
    "id": "QIf_CwfXQNcw"
   },
   "outputs": [],
   "source": [
    "basic_features = ['bedrooms', 'bathrooms', 'sqft_living', 'sqft_lot', 'floors', 'zipcode']"
   ]
  },
  {
   "cell_type": "code",
   "execution_count": 13,
   "metadata": {
    "id": "4CWvMo5oQNcx"
   },
   "outputs": [],
   "source": [
    "advanced_features = basic_features + [\n",
    "    'condition',      # condition of the house\n",
    "    'grade',          # measure of qality of construction\n",
    "    'waterfront',     # waterfront property \n",
    "    'view',           # type of view\n",
    "    'sqft_above',     # square feet above ground\n",
    "    'sqft_basement',  # square feet in basementab\n",
    "    'yr_built',       # the year built\n",
    "    'yr_renovated',   # the year renovated\n",
    "    'lat',            # the longitude of the parcel\n",
    "    'long',           # the latitide of the parcel\n",
    "    'sqft_living15',  # average sq.ft. of 15 nearest neighbors \n",
    "    'sqft_lot15',     # average lot size of 15 nearest neighbors \n",
    "]"
   ]
  },
  {
   "cell_type": "markdown",
   "metadata": {
    "id": "rfwDDVVFQNcx"
   },
   "source": [
    "---\n",
    "In the following cell, you should train two linear regression models\n",
    "* The first should be saved in a variable called `basic_model` that only uses the basic features\n",
    "* The seconod should be saved in a variable called `advanced_model` that uses the advanced features\n",
    "\n",
    "You'll need to look through the [LinearRegression](https://scikit-learn.org/stable/modules/generated/sklearn.linear_model.LinearRegression.html) class from scikit-learn to look into how to train a regression model for this task. In particular, make sure you check out the `fit` function.\n",
    "\n",
    "Notice that our goal is to eventually make a prediction of how the model will do in the future. You should keep this in mind when deciding which datasets to use where."
   ]
  },
  {
   "cell_type": "code",
   "execution_count": 14,
   "metadata": {
    "id": "yTBfZRbbQNcx"
   },
   "outputs": [],
   "source": [
    "### edTest(test_train_models) ###\n",
    "# Import linear regression function from sklearn\n",
    "\n",
    "from sklearn.linear_model import LinearRegression\n",
    "\n",
    "# Train the model with train data using basic features. Fit()\n",
    "basic_x = train_data[basic_features]\n",
    "basic_y = train_data['price']\n",
    "basic_model = LinearRegression().fit(basic_x, basic_y)\n",
    "\n",
    "# Train the model with train data using advanced features.\n",
    "advanced_x = train_data[advanced_features]\n",
    "advanced_y = train_data['price']\n",
    "advanced_model = LinearRegression().fit(advanced_x, advanced_y)"
   ]
  },
  {
   "cell_type": "markdown",
   "metadata": {
    "id": "V0xb9McKQNcx"
   },
   "source": [
    "Now, we will evaluate the models' predictions to see how they perform.\n",
    "\n",
    "---\n",
    "# Root Mean Suare Error (RMSE) of trained predictors\n",
    "\n",
    "## Q5) What are your Root Mean Squared Errors (RMSE) on your training data using the basic model and the advanced model?\n",
    "\n",
    "\n",
    "Use the models you trained in last section to predict what it thinks the values for the data points should be. You can look at the documentation from the `LinearRegression` model to see how to make predictions. \n",
    "\n",
    "The RMSE is another commonly reported metric used for regression models. The RMSE is similar to RSS but is modified slightly to scale the number down. The RMSE is defined as $$RMSE = \\sqrt{\\frac{1}{n}RSS}$$\n",
    "\n",
    "where the thing inside the square root is refered to as the Mean Square Error (MSE). You will also need to use the `mean_squared_error` function from sklearn (documentation [here](https://scikit-learn.org/stable/modules/generated/sklearn.metrics.mean_squared_error.html#sklearn.metrics.mean_squared_error)) which you'll have to import as well. \n",
    "\n",
    "**Save your result in variables named `train_rmse_basic` and `train_rmse_advanced` respectively.**\n",
    "\n",
    "**Remember, we want you to report the square root of the MSE numbers**."
   ]
  },
  {
   "cell_type": "code",
   "execution_count": 35,
   "metadata": {
    "id": "SPnQ_chKQNcx"
   },
   "outputs": [],
   "source": [
    "### edTest(test_train_rmse) ###\n",
    "# Import the mean_squared_error from sklearn\n",
    "\n",
    "from sklearn.metrics import mean_squared_error\n",
    "\n",
    "# Calculate the square root of root mean sqaured errors based on the train data by using basic features\n",
    "basic_predict = basic_model.predict(train_data[basic_features])\n",
    "basic_true = train_data['price']\n",
    "train_rmse_basic = mean_squared_error(basic_true, basic_predict, squared=False)\n",
    "\n",
    "# Calculate the square root of root mean sqaured errors based on the train data by using advanced features\n",
    "advanced_predict = advanced_model.predict(train_data[advanced_features])\n",
    "advanced_true = train_data['price']\n",
    "train_rmse_advanced = mean_squared_error(advanced_true, advanced_predict, squared=False)"
   ]
  },
  {
   "cell_type": "markdown",
   "metadata": {
    "id": "lw4PbVEwQNcy"
   },
   "source": [
    "---\n",
    "## Q6) What are your RMSE errors on your test data using the basic model and then the advanced model?\n",
    "\n",
    "Similar to the last problem, but compute the test RMSE. Store your results in `test_rmse_basic` and `test_rmse_advanced`."
   ]
  },
  {
   "cell_type": "code",
   "execution_count": 39,
   "metadata": {
    "id": "itZa5y8mQNcy"
   },
   "outputs": [],
   "source": [
    "### edTest(test_test_rmse) ###\n",
    "# Calculate the square root of root mean sqaured errors based on the test data by using basic features\n",
    "basic_predict_test = basic_model.predict(test_data[basic_features])\n",
    "basic_true_test = test_data['price']\n",
    "test_rmse_basic = mean_squared_error(basic_true_test, basic_predict_test, squared=False)\n",
    "\n",
    "# Calculate the square root of root mean sqaured errors based on the test data by using advanced features\n",
    "advanced_predict_test = advanced_model.predict(test_data[advanced_features])\n",
    "advanced_true_test = test_data['price']\n",
    "test_rmse_advanced = mean_squared_error(advanced_true_test, advanced_predict_test, squared=False)"
   ]
  },
  {
   "cell_type": "markdown",
   "metadata": {
    "id": "EJZLNA-bQNcy"
   },
   "source": [
    "---\n",
    "## Q7) Which model would you choose and why?\n",
    "These questions do not need any code to answer them. Instead, save a variable with the specified name with a string of the specified option.\n",
    "\n",
    "\n",
    "### Q7.1) Which model would you choose?\n",
    "\n",
    "Ignore the fact that we do not have a validation set for this assignment (we will get to that in the next assignment). Which model do you think would perform better in the future?\n",
    "\n",
    "* a) Model with the basic features\n",
    "* b) Model with the advanced features\n",
    "\n",
    "Save your result in a variable named `q7_1`. For example, if your anwer is option a, write \n",
    "\n",
    "```\n",
    "q7_1 = 'a'\n",
    "```\n"
   ]
  },
  {
   "cell_type": "code",
   "execution_count": 24,
   "metadata": {
    "id": "rZY_v-k2QNcy"
   },
   "outputs": [],
   "source": [
    "### edTest(test_q7_1) ###\n",
    "# Store the string into the variable\n",
    "\n",
    "q7_1 = 'b'"
   ]
  },
  {
   "cell_type": "markdown",
   "metadata": {
    "id": "V6LF2r_pQNcy"
   },
   "source": [
    "### Q7.2) Why?\n",
    "\n",
    "Same as before, select on one option to describe why you would select the model in the previous question. Save your result as a string in a variable named `q7_2`.\n",
    "\n",
    "* a) It has higher training error\n",
    "* b) It uses more features\n",
    "* c) It has lower test error\n",
    "* d) It has lower training error\n",
    "* e) It has higher test error"
   ]
  },
  {
   "cell_type": "code",
   "execution_count": 42,
   "metadata": {
    "id": "Ikg4KPHBQNcy"
   },
   "outputs": [],
   "source": [
    "### edTest(test_q7_2) ###\n",
    "# To determine how our model will perform on future data, we should compute test error, model b has lower test error than a\n",
    "# Store the option into the variable\n",
    "\n",
    "q7_2 = 'c'"
   ]
  },
  {
   "cell_type": "markdown",
   "metadata": {
    "id": "8F9xzq10QNcy"
   },
   "source": [
    "# Concept Portion\n",
    "Make sure you also complete the concept portion of this assignment before the due date."
   ]
  },
  {
   "cell_type": "markdown",
   "metadata": {
    "id": "uho__mb-QNcz"
   },
   "source": [
    "> Copyright ©2020 Emily Fox and Hunter Schafer.  All rights reserved.  Permission is hereby granted to students registered for University of Washington CSE/STAT 416 for use solely during Autumn Quarter 2021 for purposes of the course.  No other use, copying, distribution, or modification is permitted without prior written consent. Copyrights for third-party components of this work must be honored.  Instructors interested in reusing these course materials should contact the author."
   ]
  }
 ],
 "metadata": {
  "colab": {
   "collapsed_sections": [],
   "name": "HW1_House_Prices.ipynb",
   "provenance": []
  },
  "kernelspec": {
   "display_name": "Python 3 (ipykernel)",
   "language": "python",
   "name": "python3"
  },
  "language_info": {
   "codemirror_mode": {
    "name": "ipython",
    "version": 3
   },
   "file_extension": ".py",
   "mimetype": "text/x-python",
   "name": "python",
   "nbconvert_exporter": "python",
   "pygments_lexer": "ipython3",
   "version": "3.10.2"
  }
 },
 "nbformat": 4,
 "nbformat_minor": 1
}
